{
 "cells": [
  {
   "cell_type": "markdown",
   "id": "f970f757-ec76-4bf0-90cd-a2fb68b945e3",
   "metadata": {},
   "source": [
    "# Exploring OpenAI V1 functionality\n",
    "\n",
    "On 11.06.23 OpenAI released a number of new features, and along with it bumped their Python SDK to 1.0.0. This notebook shows off the new features and how to use them with LangChain."
   ]
  },
  {
   "cell_type": "code",
   "execution_count": 5,
   "id": "ee897729-263a-4073-898f-bb4cf01ed829",
   "metadata": {},
   "outputs": [
    {
     "name": "stdout",
     "output_type": "stream",
     "text": [
      "Requirement already satisfied: openai==1.1.0 in c:\\repos\\langchain notebook\\openai_v1\\lib\\site-packages (1.1.0)\n",
      "Collecting langchain==0.0.333\n",
      "  Downloading langchain-0.0.333-py3-none-any.whl.metadata (16 kB)\n",
      "Requirement already satisfied: langchain-experimental==0.0.39 in c:\\repos\\langchain notebook\\openai_v1\\lib\\site-packages (0.0.39)\n",
      "Requirement already satisfied: anyio<4,>=3.5.0 in c:\\repos\\langchain notebook\\openai_v1\\lib\\site-packages (from openai==1.1.0) (3.5.0)\n",
      "Requirement already satisfied: distro<2,>=1.7.0 in c:\\repos\\langchain notebook\\openai_v1\\lib\\site-packages (from openai==1.1.0) (1.8.0)\n",
      "Requirement already satisfied: httpx<1,>=0.23.0 in c:\\repos\\langchain notebook\\openai_v1\\lib\\site-packages (from openai==1.1.0) (0.25.1)\n",
      "Requirement already satisfied: pydantic<3,>=1.9.0 in c:\\repos\\langchain notebook\\openai_v1\\lib\\site-packages (from openai==1.1.0) (2.4.2)\n",
      "Requirement already satisfied: tqdm>4 in c:\\repos\\langchain notebook\\openai_v1\\lib\\site-packages (from openai==1.1.0) (4.66.1)\n",
      "Requirement already satisfied: typing-extensions<5,>=4.5 in c:\\repos\\langchain notebook\\openai_v1\\lib\\site-packages (from openai==1.1.0) (4.7.1)\n",
      "Requirement already satisfied: PyYAML>=5.3 in c:\\repos\\langchain notebook\\openai_v1\\lib\\site-packages (from langchain==0.0.333) (6.0.1)\n",
      "Requirement already satisfied: SQLAlchemy<3,>=1.4 in c:\\repos\\langchain notebook\\openai_v1\\lib\\site-packages (from langchain==0.0.333) (2.0.23)\n",
      "Requirement already satisfied: aiohttp<4.0.0,>=3.8.3 in c:\\repos\\langchain notebook\\openai_v1\\lib\\site-packages (from langchain==0.0.333) (3.8.6)\n",
      "Requirement already satisfied: dataclasses-json<0.7,>=0.5.7 in c:\\repos\\langchain notebook\\openai_v1\\lib\\site-packages (from langchain==0.0.333) (0.6.1)\n",
      "Requirement already satisfied: jsonpatch<2.0,>=1.33 in c:\\repos\\langchain notebook\\openai_v1\\lib\\site-packages (from langchain==0.0.333) (1.33)\n",
      "Requirement already satisfied: langsmith<0.1.0,>=0.0.62 in c:\\repos\\langchain notebook\\openai_v1\\lib\\site-packages (from langchain==0.0.333) (0.0.62)\n",
      "Requirement already satisfied: numpy<2,>=1 in c:\\repos\\langchain notebook\\openai_v1\\lib\\site-packages (from langchain==0.0.333) (1.26.1)\n",
      "Requirement already satisfied: requests<3,>=2 in c:\\repos\\langchain notebook\\openai_v1\\lib\\site-packages (from langchain==0.0.333) (2.31.0)\n",
      "Requirement already satisfied: tenacity<9.0.0,>=8.1.0 in c:\\repos\\langchain notebook\\openai_v1\\lib\\site-packages (from langchain==0.0.333) (8.2.3)\n",
      "Requirement already satisfied: attrs>=17.3.0 in c:\\repos\\langchain notebook\\openai_v1\\lib\\site-packages (from aiohttp<4.0.0,>=3.8.3->langchain==0.0.333) (23.1.0)\n",
      "Requirement already satisfied: charset-normalizer<4.0,>=2.0 in c:\\repos\\langchain notebook\\openai_v1\\lib\\site-packages (from aiohttp<4.0.0,>=3.8.3->langchain==0.0.333) (3.3.2)\n",
      "Requirement already satisfied: multidict<7.0,>=4.5 in c:\\repos\\langchain notebook\\openai_v1\\lib\\site-packages (from aiohttp<4.0.0,>=3.8.3->langchain==0.0.333) (6.0.4)\n",
      "Requirement already satisfied: async-timeout<5.0,>=4.0.0a3 in c:\\repos\\langchain notebook\\openai_v1\\lib\\site-packages (from aiohttp<4.0.0,>=3.8.3->langchain==0.0.333) (4.0.3)\n",
      "Requirement already satisfied: yarl<2.0,>=1.0 in c:\\repos\\langchain notebook\\openai_v1\\lib\\site-packages (from aiohttp<4.0.0,>=3.8.3->langchain==0.0.333) (1.9.2)\n",
      "Requirement already satisfied: frozenlist>=1.1.1 in c:\\repos\\langchain notebook\\openai_v1\\lib\\site-packages (from aiohttp<4.0.0,>=3.8.3->langchain==0.0.333) (1.4.0)\n",
      "Requirement already satisfied: aiosignal>=1.1.2 in c:\\repos\\langchain notebook\\openai_v1\\lib\\site-packages (from aiohttp<4.0.0,>=3.8.3->langchain==0.0.333) (1.3.1)\n",
      "Requirement already satisfied: idna>=2.8 in c:\\repos\\langchain notebook\\openai_v1\\lib\\site-packages (from anyio<4,>=3.5.0->openai==1.1.0) (3.4)\n",
      "Requirement already satisfied: sniffio>=1.1 in c:\\repos\\langchain notebook\\openai_v1\\lib\\site-packages (from anyio<4,>=3.5.0->openai==1.1.0) (1.2.0)\n",
      "Requirement already satisfied: marshmallow<4.0.0,>=3.18.0 in c:\\repos\\langchain notebook\\openai_v1\\lib\\site-packages (from dataclasses-json<0.7,>=0.5.7->langchain==0.0.333) (3.20.1)\n",
      "Requirement already satisfied: typing-inspect<1,>=0.4.0 in c:\\repos\\langchain notebook\\openai_v1\\lib\\site-packages (from dataclasses-json<0.7,>=0.5.7->langchain==0.0.333) (0.9.0)\n",
      "Requirement already satisfied: certifi in c:\\repos\\langchain notebook\\openai_v1\\lib\\site-packages (from httpx<1,>=0.23.0->openai==1.1.0) (2023.7.22)\n",
      "Requirement already satisfied: httpcore in c:\\repos\\langchain notebook\\openai_v1\\lib\\site-packages (from httpx<1,>=0.23.0->openai==1.1.0) (1.0.1)\n",
      "Requirement already satisfied: jsonpointer>=1.9 in c:\\repos\\langchain notebook\\openai_v1\\lib\\site-packages (from jsonpatch<2.0,>=1.33->langchain==0.0.333) (2.4)\n",
      "Requirement already satisfied: pytest-subtests<0.12.0,>=0.11.0 in c:\\repos\\langchain notebook\\openai_v1\\lib\\site-packages (from langsmith<0.1.0,>=0.0.62->langchain==0.0.333) (0.11.0)\n",
      "Requirement already satisfied: annotated-types>=0.4.0 in c:\\repos\\langchain notebook\\openai_v1\\lib\\site-packages (from pydantic<3,>=1.9.0->openai==1.1.0) (0.6.0)\n",
      "Requirement already satisfied: pydantic-core==2.10.1 in c:\\repos\\langchain notebook\\openai_v1\\lib\\site-packages (from pydantic<3,>=1.9.0->openai==1.1.0) (2.10.1)\n",
      "Requirement already satisfied: urllib3<3,>=1.21.1 in c:\\repos\\langchain notebook\\openai_v1\\lib\\site-packages (from requests<3,>=2->langchain==0.0.333) (2.0.7)\n",
      "Requirement already satisfied: greenlet!=0.4.17 in c:\\repos\\langchain notebook\\openai_v1\\lib\\site-packages (from SQLAlchemy<3,>=1.4->langchain==0.0.333) (3.0.1)\n",
      "Requirement already satisfied: colorama in c:\\repos\\langchain notebook\\openai_v1\\lib\\site-packages (from tqdm>4->openai==1.1.0) (0.4.6)\n",
      "Requirement already satisfied: packaging>=17.0 in c:\\repos\\langchain notebook\\openai_v1\\lib\\site-packages (from marshmallow<4.0.0,>=3.18.0->dataclasses-json<0.7,>=0.5.7->langchain==0.0.333) (23.1)\n",
      "Requirement already satisfied: pytest>=7.0 in c:\\repos\\langchain notebook\\openai_v1\\lib\\site-packages (from pytest-subtests<0.12.0,>=0.11.0->langsmith<0.1.0,>=0.0.62->langchain==0.0.333) (7.4.3)\n",
      "Requirement already satisfied: mypy-extensions>=0.3.0 in c:\\repos\\langchain notebook\\openai_v1\\lib\\site-packages (from typing-inspect<1,>=0.4.0->dataclasses-json<0.7,>=0.5.7->langchain==0.0.333) (1.0.0)\n",
      "Requirement already satisfied: h11<0.15,>=0.13 in c:\\repos\\langchain notebook\\openai_v1\\lib\\site-packages (from httpcore->httpx<1,>=0.23.0->openai==1.1.0) (0.14.0)\n",
      "Requirement already satisfied: iniconfig in c:\\repos\\langchain notebook\\openai_v1\\lib\\site-packages (from pytest>=7.0->pytest-subtests<0.12.0,>=0.11.0->langsmith<0.1.0,>=0.0.62->langchain==0.0.333) (2.0.0)\n",
      "Requirement already satisfied: pluggy<2.0,>=0.12 in c:\\repos\\langchain notebook\\openai_v1\\lib\\site-packages (from pytest>=7.0->pytest-subtests<0.12.0,>=0.11.0->langsmith<0.1.0,>=0.0.62->langchain==0.0.333) (1.3.0)\n",
      "Downloading langchain-0.0.333-py3-none-any.whl (2.0 MB)\n",
      "   ---------------------------------------- 0.0/2.0 MB ? eta -:--:--\n",
      "    --------------------------------------- 0.0/2.0 MB 1.3 MB/s eta 0:00:02\n",
      "   -- ------------------------------------- 0.1/2.0 MB 1.1 MB/s eta 0:00:02\n",
      "   ---- ----------------------------------- 0.2/2.0 MB 1.4 MB/s eta 0:00:02\n",
      "   ------ --------------------------------- 0.3/2.0 MB 1.7 MB/s eta 0:00:01\n",
      "   ---------- ----------------------------- 0.5/2.0 MB 2.4 MB/s eta 0:00:01\n",
      "   ----------------- ---------------------- 0.9/2.0 MB 3.1 MB/s eta 0:00:01\n",
      "   ----------------------- ---------------- 1.1/2.0 MB 3.6 MB/s eta 0:00:01\n",
      "   ---------------------------------------  2.0/2.0 MB 5.3 MB/s eta 0:00:01\n",
      "   ---------------------------------------- 2.0/2.0 MB 4.9 MB/s eta 0:00:00\n",
      "Installing collected packages: langchain\n",
      "  Attempting uninstall: langchain\n",
      "    Found existing installation: langchain 0.0.332\n",
      "    Uninstalling langchain-0.0.332:\n",
      "      Successfully uninstalled langchain-0.0.332\n",
      "Successfully installed langchain-0.0.333\n",
      "Note: you may need to restart the kernel to use updated packages.\n"
     ]
    }
   ],
   "source": [
    "# need openai>=1.1.0, langchain>=0.0.332, langchain-experimental>=0.0.39\n",
    "%pip install -U openai==1.1.0 langchain==0.0.333 langchain-experimental==0.0.39 --upgrade"
   ]
  },
  {
   "cell_type": "code",
   "execution_count": 1,
   "id": "c3e067ce-7a43-47a7-bc89-41f1de4cf136",
   "metadata": {},
   "outputs": [],
   "source": [
    "from langchain.chat_models import ChatOpenAI\n",
    "from langchain.schema.messages import HumanMessage, SystemMessage"
   ]
  },
  {
   "cell_type": "markdown",
   "id": "fa7e7e95-90a1-4f73-98fe-10c4b4e0951b",
   "metadata": {},
   "source": [
    "## [Vision](https://platform.openai.com/docs/guides/vision)\n",
    "\n",
    "OpenAI released multi-modal models, which can take a sequence of text and images as input."
   ]
  },
  {
   "cell_type": "code",
   "execution_count": 28,
   "metadata": {},
   "outputs": [
    {
     "data": {
      "image/png": "[encoded data removed]",
      "text/plain": [
       "<IPython.core.display.Image object>"
      ]
     },
     "execution_count": 28,
     "metadata": {},
     "output_type": "execute_result"
    }
   ],
   "source": [
    "import base64\n",
    "import requests\n",
    "\n",
    "# Function to encode the image\n",
    "def encode_image(image_path):\n",
    "    with open(image_path, \"rb\") as image_file:\n",
    "        return base64.b64encode(image_file.read()).decode('utf-8')\n",
    "    \n",
    "# Path to your image\n",
    "image_path = \"images/Card-form.png\"\n",
    "\n",
    "# Getting the base64 string\n",
    "base64_image = encode_image(image_path)\n",
    "\n",
    "# show image in notebook\n",
    "from IPython.display import Image\n",
    "Image(image_path)\n",
    "#print(base64_image)"
   ]
  },
  {
   "cell_type": "code",
   "execution_count": 3,
   "metadata": {},
   "outputs": [],
   "source": [
    "chat = ChatOpenAI(model=\"gpt-4-vision-preview\", max_tokens=4096, temperature=0.6)"
   ]
  },
  {
   "cell_type": "code",
   "execution_count": 6,
   "metadata": {},
   "outputs": [
    {
     "data": {
      "text/plain": [
       "AIMessage(content='The image appears to be a diagram representing the architecture or components of a software system or framework related to language processing, possibly named \"LangChain\". The diagram is structured in layers, indicating different levels of the system, with each layer containing various modules or components.\\n\\nFrom bottom to top, the layers are labeled as follows:\\n\\n- Protocol: It includes components such as \"LCEL\", \"Parallelization\", \"Fallbacks\", \"Tracing\", \"Batching\", \"Streaming\", \"Async\", and \"Composition\". These are likely related to communication protocols and operational patterns within the system.\\n  \\n- Integrations Components: This layer consists of \"Model I/O\" with subcomponents like \"Model\", \"Output Parser\", \"Prompt\", and \"Example Selector\"; \"Retrieval\" with \"Document Loader\", \"Retriever\", \"Embedding Model\", \"Vector Store\", \"Text Splitter\"; and \"Agent Tooling\". These components seem to handle input/output operations, data retrieval, and tools for agents within the system.\\n\\n- Application: This layer has \"LangChain\" with \"Chains, Agents, Agent Executors\" and \"Common Application Logic\". This suggests the core application logic that deals with the workflow or data processing chains, as well as the execution environment for agents.\\n\\n- Deployment: This layer includes \"LangServe\" and \"Templates\". \"LangServe\" has \"CHAINS AS REST APIS\" indicating that the system can expose its functionalities as RESTful APIs. \"Templates\" has \"Reference Applications\", suggesting pre-built applications or templates for quick deployment.\\n\\n- Observability: At the top, there\\'s \"LangSmith\" with functionalities like \"Testing\", \"Evaluation\", \"Monitoring\", \"Annotation\", and \"Feedback\". This layer is likely concerned with monitoring the performance of the system, testing, and gathering feedback for improvements.\\n\\nThe right side of the diagram has a vertical bar with the word \"Debugging\", which might imply that debugging capabilities are integrated across all layers of the system.\\n\\nIcons next to some of the components, such as a rocket ship, a snake, and a bug, might represent specific technologies or frameworks (like Python, indicated by the snake), or they could symbolize concepts like speed, ease of use, or debugging.\\n\\nOverall, the image seems to describe a comprehensive system designed for language processing, which includes components for handling communication protocols, data integration, core application functionality, deployment utilities, and observability tools, with an emphasis on debugging throughout the system.')"
      ]
     },
     "execution_count": 6,
     "metadata": {},
     "output_type": "execute_result"
    }
   ],
   "source": [
    "chat.invoke(\n",
    "    [\n",
    "        HumanMessage(\n",
    "            content=[\n",
    "                {\"type\": \"text\", \"text\": \"What is this image showing\"},\n",
    "                {\n",
    "                    \"type\": \"image_url\",\n",
    "                    \"image_url\": {\n",
    "                        \"url\": \"https://raw.githubusercontent.com/langchain-ai/langchain/master/docs/static/img/langchain_stack.png\",\n",
    "                        \"detail\": \"auto\",\n",
    "                    },\n",
    "                },\n",
    "            ]\n",
    "        )\n",
    "    ]\n",
    ")"
   ]
  },
  {
   "cell_type": "code",
   "execution_count": 16,
   "id": "1c8c3965-d3c9-4186-b5f3-5e67855ef916",
   "metadata": {},
   "outputs": [
    {
     "name": "stdout",
     "output_type": "stream",
     "text": [
      "content='The image appears to show a screenshot of a spreadsheet or a table with rows and columns. The first row consists of headers labeled \"Head\" repeated across several columns, and a leading column with a \"#\" sign, which typically stands for number or index. The subsequent rows are labeled with numbers 1 through 9 in the first column, indicating row numbers or items. Each cell under the headers contains the word \"Cell,\" which likely indicates that this is a placeholder text or an example to illustrate the structure of a table. This type of layout is commonly used in applications like Microsoft Excel, Google Sheets, or other spreadsheet software for organizing and analyzing data.'\n"
     ]
    }
   ],
   "source": [
    "\n",
    "\n",
    "res = chat.invoke(\n",
    "    [\n",
    "        HumanMessage(\n",
    "            content=[\n",
    "                {\"type\": \"text\", \"text\": \"What is this image showing\"},\n",
    "                {\n",
    "                    \"type\": \"image_url\",\n",
    "                    \"image_url\": {\n",
    "                        \"url\": f\"data:image/jpeg;base64,{base64_image}\",\n",
    "                        \"detail\": \"auto\",\n",
    "                    },\n",
    "                },\n",
    "            ]\n",
    "        )\n",
    "    ]\n",
    ")\n",
    "\n",
    "print(res)\n"
   ]
  },
  {
   "cell_type": "code",
   "execution_count": 30,
   "metadata": {},
   "outputs": [
    {
     "data": {
      "text/plain": [
       "True"
      ]
     },
     "execution_count": 30,
     "metadata": {},
     "output_type": "execute_result"
    }
   ],
   "source": [
    "res = chat.invoke(\n",
    "    [\n",
    "        SystemMessage(\n",
    "            content=[\n",
    "                {\"type\": \"text\", \"text\": \"\"\"You are a web developer. You are given an image and asked to create an html\n",
    "                    page based on it. Be as accurate as possible to the image, even in the styles and colors. Use bootstrap framework v.5+ for generate the html. Use only cdn.jsdelivr.net for the scripts and do not use beta versions. \n",
    "                    Respond with html code only. Dont make comments in the response. Dont use markdown, only respond with html code\"\"\"},\n",
    "            ]\n",
    "        ),\n",
    "        HumanMessage(\n",
    "            content=[\n",
    "                {\"type\": \"text\", \"text\": \"Generate an html page based on this image.\"},\n",
    "                {\n",
    "                    \"type\": \"image_url\",\n",
    "                    \"image_url\": {\n",
    "                        \"url\": f\"data:image/jpeg;base64,{base64_image}\",\n",
    "                        \"detail\": \"auto\",\n",
    "                    },\n",
    "                },\n",
    "            ]\n",
    "        )\n",
    "    ]\n",
    ")\n",
    "\n",
    "# crea el html en un archivo con un nombre aleatorio y guardalo en el folder \"html_files\"\n",
    "import os\n",
    "from datetime import datetime\n",
    "from random import randint\n",
    "\n",
    "now = datetime.now()\n",
    "timestamp = datetime.timestamp(now)\n",
    "random_number = randint(0, 1000000)\n",
    "filename = f\"generated_html_files/{timestamp}_{random_number}.html\"\n",
    "\n",
    "# crea el archivo y escribe el contenido\n",
    "f = open(filename, \"w\")\n",
    "f.write(res.content.replace(\"```html\", \"\").replace(\"```\", \"\"))\n",
    "f.close()\n",
    "\n",
    "# abre el archivo en el browser\n",
    "import webbrowser\n",
    "webbrowser.open(f\"file:///{os.getcwd()}/{filename}\")\n"
   ]
  },
  {
   "cell_type": "markdown",
   "id": "210f8248-fcf3-4052-a4a3-0684e08f8785",
   "metadata": {},
   "source": [
    "## [OpenAI assistants](https://platform.openai.com/docs/assistants/overview)\n",
    "\n",
    "> The Assistants API allows you to build AI assistants within your own applications. An Assistant has instructions and can leverage models, tools, and knowledge to respond to user queries. The Assistants API currently supports three types of tools: Code Interpreter, Retrieval, and Function calling\n",
    "\n",
    "\n",
    "You can interact with OpenAI Assistants using OpenAI tools or custom tools. When using exclusively OpenAI tools, you can just invoke the assistant directly and get final answers. When using custom tools, you can run the assistant and tool execution loop using the built-in AgentExecutor or easily write your own executor.\n",
    "\n",
    "Below we show the different ways to interact with Assistants. As a simple example, let's build a math tutor that can write and run code."
   ]
  },
  {
   "cell_type": "markdown",
   "id": "318da28d-4cec-42ab-ae3e-76d95bb34fa5",
   "metadata": {},
   "source": [
    "### Using only OpenAI tools"
   ]
  },
  {
   "cell_type": "code",
   "execution_count": null,
   "id": "a9064bbe-d9f7-4a29-a7b3-73933b3197e7",
   "metadata": {},
   "outputs": [],
   "source": [
    "from langchain_experimental.openai_assistant import OpenAIAssistantRunnable"
   ]
  },
  {
   "cell_type": "code",
   "execution_count": null,
   "id": "7a20a008-49ac-46d2-aa26-b270118af5ea",
   "metadata": {},
   "outputs": [],
   "source": [
    "interpreter_assistant = OpenAIAssistantRunnable.create_assistant(\n",
    "    name=\"langchain assistant\",\n",
    "    instructions=\"You are a personal math tutor. Write and run code to answer math questions.\",\n",
    "    tools=[{\"type\": \"code_interpreter\"}],\n",
    "    model=\"gpt-4-1106-preview\",\n",
    ")\n",
    "output = interpreter_assistant.invoke({\"content\": \"What's 10 - 4 raised to the 2.7\"})\n",
    "output"
   ]
  },
  {
   "cell_type": "markdown",
   "id": "a8ddd181-ac63-4ab6-a40d-a236120379c1",
   "metadata": {},
   "source": [
    "### As a LangChain agent with arbitrary tools\n",
    "\n",
    "Now let's recreate this functionality using our own tools. For this example we'll use the [E2B sandbox runtime tool](https://e2b.dev/docs?ref=landing-page-get-started)."
   ]
  },
  {
   "cell_type": "code",
   "execution_count": null,
   "id": "ee4cc355-f2d6-4c51-bcf7-f502868357d3",
   "metadata": {},
   "outputs": [],
   "source": [
    "!pip install e2b duckduckgo-search"
   ]
  },
  {
   "cell_type": "code",
   "execution_count": null,
   "id": "48681ac7-b267-48d4-972c-8a7df8393a21",
   "metadata": {},
   "outputs": [],
   "source": [
    "from langchain.tools import E2BDataAnalysisTool, DuckDuckGoSearchRun\n",
    "\n",
    "tools = [E2BDataAnalysisTool(api_key=\"...\"), DuckDuckGoSearchRun()]"
   ]
  },
  {
   "cell_type": "code",
   "execution_count": null,
   "id": "1c01dd79-dd3e-4509-a2e2-009a7f99f16a",
   "metadata": {},
   "outputs": [],
   "source": [
    "agent = OpenAIAssistantRunnable.create_assistant(\n",
    "    name=\"langchain assistant e2b tool\",\n",
    "    instructions=\"You are a personal math tutor. Write and run code to answer math questions. You can also search the internet.\",\n",
    "    tools=tools,\n",
    "    model=\"gpt-4-1106-preview\",\n",
    "    as_agent=True,\n",
    ")"
   ]
  },
  {
   "cell_type": "markdown",
   "id": "1ac71d8b-4b4b-4f98-b826-6b3c57a34166",
   "metadata": {},
   "source": [
    "#### Using AgentExecutor"
   ]
  },
  {
   "cell_type": "code",
   "execution_count": null,
   "id": "1f137f94-801f-4766-9ff5-2de9df5e8079",
   "metadata": {},
   "outputs": [],
   "source": [
    "from langchain.agents import AgentExecutor\n",
    "\n",
    "agent_executor = AgentExecutor(agent=agent, tools=tools)\n",
    "agent_executor.invoke({\"content\": \"What's the weather in SF today divided by 2.7\"})"
   ]
  },
  {
   "cell_type": "markdown",
   "id": "2d0a0b1d-c1b3-4b50-9dce-1189b51a6206",
   "metadata": {},
   "source": [
    "#### Custom execution"
   ]
  },
  {
   "cell_type": "code",
   "execution_count": null,
   "id": "c0475fa7-b6c1-4331-b8e2-55407466c724",
   "metadata": {},
   "outputs": [],
   "source": [
    "agent = OpenAIAssistantRunnable.create_assistant(\n",
    "    name=\"langchain assistant e2b tool\",\n",
    "    instructions=\"You are a personal math tutor. Write and run code to answer math questions.\",\n",
    "    tools=tools,\n",
    "    model=\"gpt-4-1106-preview\",\n",
    "    as_agent=True,\n",
    ")"
   ]
  },
  {
   "cell_type": "code",
   "execution_count": null,
   "id": "b76cb669-6aba-4827-868f-00aa960026f2",
   "metadata": {},
   "outputs": [],
   "source": [
    "from langchain.schema.agent import AgentFinish\n",
    "\n",
    "\n",
    "def execute_agent(agent, tools, input):\n",
    "    tool_map = {tool.name: tool for tool in tools}\n",
    "    response = agent.invoke(input)\n",
    "    while not isinstance(response, AgentFinish):\n",
    "        tool_outputs = []\n",
    "        for action in response:\n",
    "            tool_output = tool_map[action.tool].invoke(action.tool_input)\n",
    "            print(action.tool, action.tool_input, tool_output, end=\"\\n\\n\")\n",
    "            tool_outputs.append(\n",
    "                {\"output\": tool_output, \"tool_call_id\": action.tool_call_id}\n",
    "            )\n",
    "        response = agent.invoke(\n",
    "            {\n",
    "                \"tool_outputs\": tool_outputs,\n",
    "                \"run_id\": action.run_id,\n",
    "                \"thread_id\": action.thread_id,\n",
    "            }\n",
    "        )\n",
    "\n",
    "    return response"
   ]
  },
  {
   "cell_type": "code",
   "execution_count": null,
   "id": "7946116a-b82f-492e-835e-ca958a8949a5",
   "metadata": {},
   "outputs": [],
   "source": [
    "response = execute_agent(agent, tools, {\"content\": \"What's 10 - 4 raised to the 2.7\"})\n",
    "print(response.return_values[\"output\"])"
   ]
  },
  {
   "cell_type": "code",
   "execution_count": null,
   "id": "f2744a56-9f4f-4899-827a-fa55821c318c",
   "metadata": {},
   "outputs": [],
   "source": [
    "next_response = execute_agent(\n",
    "    agent, tools, {\"content\": \"now add 17.241\", \"thread_id\": response.thread_id}\n",
    ")\n",
    "print(next_response.return_values[\"output\"])"
   ]
  },
  {
   "cell_type": "markdown",
   "id": "71c34763-d1e7-4b9a-a9d7-3e4cc0dfc2c4",
   "metadata": {},
   "source": [
    "## [JSON mode](https://platform.openai.com/docs/guides/text-generation/json-mode)\n",
    "\n",
    "Constrain the model to only generate valid JSON. Note that you must include a system message with instructions to use JSON for this mode to work.\n",
    "\n",
    "Only works with certain models. "
   ]
  },
  {
   "cell_type": "code",
   "execution_count": null,
   "id": "db6072c4-f3f3-415d-872b-71ea9f3c02bb",
   "metadata": {},
   "outputs": [],
   "source": [
    "chat = ChatOpenAI(model=\"gpt-3.5-turbo-1106\").bind(\n",
    "    response_format={\"type\": \"json_object\"}\n",
    ")\n",
    "\n",
    "output = chat.invoke(\n",
    "    [\n",
    "        SystemMessage(\n",
    "            content=\"Extract the 'name' and 'origin' of any companies mentioned in the following statement. Return a JSON list.\"\n",
    "        ),\n",
    "        HumanMessage(\n",
    "            content=\"Google was founded in the USA, while Deepmind was founded in the UK\"\n",
    "        ),\n",
    "    ]\n",
    ")\n",
    "print(output.content)"
   ]
  },
  {
   "cell_type": "code",
   "execution_count": null,
   "id": "08e00ccf-b991-4249-846b-9500a0ccbfa0",
   "metadata": {},
   "outputs": [],
   "source": [
    "import json\n",
    "\n",
    "json.loads(output.content)"
   ]
  },
  {
   "cell_type": "markdown",
   "id": "aa9a94d9-4319-4ab7-a979-c475ce6b5f50",
   "metadata": {},
   "source": [
    "## [System fingerprint](https://platform.openai.com/docs/guides/text-generation/reproducible-outputs)\n",
    "\n",
    "OpenAI sometimes changes model configurations in a way that impacts outputs. Whenever this happens, the system_fingerprint associated with a generation will change."
   ]
  },
  {
   "cell_type": "code",
   "execution_count": null,
   "id": "1281883c-bf8f-4665-89cd-4f33ccde69ab",
   "metadata": {},
   "outputs": [],
   "source": [
    "chat = ChatOpenAI(model=\"gpt-3.5-turbo-1106\")\n",
    "output = chat.generate(\n",
    "    [\n",
    "        [\n",
    "            SystemMessage(\n",
    "                content=\"Extract the 'name' and 'origin' of any companies mentioned in the following statement. Return a JSON list.\"\n",
    "            ),\n",
    "            HumanMessage(\n",
    "                content=\"Google was founded in the USA, while Deepmind was founded in the UK\"\n",
    "            ),\n",
    "        ]\n",
    "    ]\n",
    ")\n",
    "print(output.llm_output)"
   ]
  },
  {
   "cell_type": "markdown",
   "id": "aa6565be-985d-4127-848e-c3bca9d7b434",
   "metadata": {},
   "source": [
    "## Breaking changes to Azure classes\n",
    "\n",
    "OpenAI V1 rewrote their clients and separated Azure and OpenAI clients. This has led to some changes in LangChain interfaces when using OpenAI V1.\n",
    "\n",
    "BREAKING CHANGES:\n",
    "- To use Azure embeddings with OpenAI V1, you'll need to use the new `AzureOpenAIEmbeddings` instead of the existing `OpenAIEmbeddings`. `OpenAIEmbeddings` continue to work when using Azure with `openai<1`.\n",
    "```python\n",
    "from langchain.embeddings import AzureOpenAIEmbeddings\n",
    "```\n",
    "\n",
    "\n",
    "RECOMMENDED CHANGES:\n",
    "- When using AzureChatOpenAI, if passing in an Azure endpoint (eg https://example-resource.azure.openai.com/) this should be specified via the `azure_endpoint` parameter or the `AZURE_OPENAI_ENDPOINT`. We're maintaining backwards compatibility for now with specifying this via `openai_api_base`/`base_url` or env var `OPENAI_API_BASE` but this shouldn't be relied upon.\n",
    "- When using Azure chat or embedding models, pass in API keys either via `openai_api_key` parameter or `AZURE_OPENAI_API_KEY` parameter. We're maintaining backwards compatibility for now with specifying this via `OPENAI_API_KEY` but this shouldn't be relied upon."
   ]
  },
  {
   "cell_type": "code",
   "execution_count": null,
   "id": "52b48493-e4fe-4ab9-97cd-e65bf3996e30",
   "metadata": {},
   "outputs": [],
   "source": []
  }
 ],
 "metadata": {
  "kernelspec": {
   "display_name": "Python 3",
   "language": "python",
   "name": "python3"
  },
  "language_info": {
   "codemirror_mode": {
    "name": "ipython",
    "version": 3
   },
   "file_extension": ".py",
   "mimetype": "text/x-python",
   "name": "python",
   "nbconvert_exporter": "python",
   "pygments_lexer": "ipython3",
   "version": "3.11.5"
  }
 },
 "nbformat": 4,
 "nbformat_minor": 5
}
