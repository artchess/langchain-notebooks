{
 "cells": [
  {
   "cell_type": "code",
   "execution_count": 1,
   "metadata": {},
   "outputs": [
    {
     "data": {
      "text/plain": [
       "AIMessage(content=\"J'adore la programmation.\", additional_kwargs={}, example=False)"
      ]
     },
     "execution_count": 1,
     "metadata": {},
     "output_type": "execute_result"
    }
   ],
   "source": [
    "from langchain.chat_models import AzureChatOpenAI\n",
    "from langchain.schema import HumanMessage\n",
    "import os\n",
    "\n",
    "BASE_URL = \"https://poc-moviro.openai.azure.com\"\n",
    "API_VERSION = \"2023-05-15\"\n",
    "API_KEY = \"...\"\n",
    "DEPLOYMENT_NAME = \"gpt-35-turbo\"\n",
    "API_TYPE=\"azure\"\n",
    "\n",
    "model = AzureChatOpenAI(\n",
    "    openai_api_base= os.environ.get(\"OPENAI_API_BASE\", BASE_URL),\n",
    "    openai_api_version=os.environ.get(\"OPENAI_API_VERSION\", API_VERSION),\n",
    "    deployment_name=DEPLOYMENT_NAME,\n",
    "    openai_api_key=os.environ.get(\"OPENAI_API_KEY\", API_KEY),\n",
    "    openai_api_type =os.environ.get(\"OPENAI_API_TYPE\", API_TYPE),\n",
    ")\n",
    "\n",
    "model([HumanMessage(content=\"Translate this sentence from English to French. I love programming.\")])"
   ]
  }
 ],
 "metadata": {
  "kernelspec": {
   "display_name": "Python 3",
   "language": "python",
   "name": "python3"
  },
  "language_info": {
   "codemirror_mode": {
    "name": "ipython",
    "version": 3
   },
   "file_extension": ".py",
   "mimetype": "text/x-python",
   "name": "python",
   "nbconvert_exporter": "python",
   "pygments_lexer": "ipython3",
   "version": "3.10.11"
  },
  "orig_nbformat": 4
 },
 "nbformat": 4,
 "nbformat_minor": 2
}
