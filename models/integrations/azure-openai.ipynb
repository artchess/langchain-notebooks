{
 "cells": [
  {
   "attachments": {},
   "cell_type": "markdown",
   "metadata": {},
   "source": [
    "Este cuaderno explica cómo utilizar LangChain con Azure OpenAI.\n",
    "\n",
    "La API de Azure OpenAI es compatible con la API de OpenAI. El paquete de Python \"openai\" facilita el uso tanto de OpenAI como de Azure OpenAI. Puedes llamar a Azure OpenAI de la misma manera que llamas a OpenAI, con las excepciones que se mencionan a continuación.\n",
    "\n",
    "**Configuración de la API**\n",
    "\n",
    "Puedes configurar el paquete \"openai\" para usar Azure OpenAI utilizando variables de entorno. A continuación se muestra un ejemplo para entornos bash:\n",
    "\n",
    "```python\n",
    "# Set this to `azure`\n",
    "export OPENAI_API_TYPE=azure\n",
    "# The API version you want to use: set this to `2022-12-01` for the released version.\n",
    "export OPENAI_API_VERSION=2022-12-01\n",
    "# The base URL for your Azure OpenAI resource.  You can find this in the Azure portal under your Azure OpenAI resource.\n",
    "export OPENAI_API_BASE=https://your-resource-name.openai.azure.com\n",
    "# The API key for your Azure OpenAI resource.  You can find this in the Azure portal under your Azure OpenAI resource.\n",
    "export OPENAI_API_KEY=<your Azure OpenAI API key>\n",
    "```"
   ]
  },
  {
   "attachments": {},
   "cell_type": "markdown",
   "metadata": {},
   "source": [
    "**Despliegues**\n",
    "\n",
    "Con Azure OpenAI, puedes configurar tus propios despliegues de los modelos comunes GPT-3 y Codex. Al llamar a la API, necesitas especificar el despliegue que deseas utilizar.\n",
    "\n",
    "Supongamos que el nombre de tu despliegue es gpt-35-turbo. En la API de Python de OpenAI, puedes especificar este despliegue utilizando el parámetro \"engine\". Por ejemplo:"
   ]
  },
  {
   "cell_type": "code",
   "execution_count": 1,
   "metadata": {},
   "outputs": [],
   "source": [
    "import openai\n",
    "\n",
    "response = openai.Completion.create(\n",
    "    engine=\"gpt-35-turbo\",\n",
    "    prompt=\"Esta es una historia \",\n",
    "    max_tokens=5\n",
    ")"
   ]
  },
  {
   "cell_type": "code",
   "execution_count": 2,
   "metadata": {},
   "outputs": [
    {
     "data": {
      "text/plain": [
       "'100% mía:'"
      ]
     },
     "execution_count": 2,
     "metadata": {},
     "output_type": "execute_result"
    }
   ],
   "source": [
    "response.choices[0].text # type: ignore"
   ]
  },
  {
   "cell_type": "code",
   "execution_count": 4,
   "metadata": {},
   "outputs": [
    {
     "name": "stdout",
     "output_type": "stream",
     "text": [
      ".\"\n",
      "\n",
      "I don't know any good jokes, but I do know a good one about a T-Rex.\n",
      "\n",
      "Okay.\n",
      "\n",
      "Why did the T-Rex cross the road?\n",
      "\n",
      "I don't know.\n",
      "\n",
      "To get to the other side.\n",
      "\n",
      "That wasn't too great, or was it? Let's try one more. Tell me a joke.\n",
      "\n",
      "I don't know any good jokes, but I do know a good one about a T-Rex.\n",
      "\n",
      "Why did the T-Rex cross the road?\n",
      "\n",
      "I don't know.\n",
      "\n",
      "To get to the other side.\n",
      "\n",
      "All right, I think that's enough of that. You get the idea. This is the Echo Dot Kids Edition. It's a great device for kids. It's priced at $70, which is actually a pretty good deal. You get the same Echo Dot that you would get in the store. However, it comes with a two-year worry-free guarantee, which means that if your child breaks it, Amazon will replace it for free, no questions asked. It also comes with a year subscription to Amazon FreeTime Unlimited, which is great. It gives your child access to over a thousand books, games, and other educational activities that are age appropriate. I think it's a great device for kids. It's easy to"
     ]
    },
    {
     "data": {
      "text/plain": [
       "'.\"\\n\\nI don\\'t know any good jokes, but I do know a good one about a T-Rex.\\n\\nOkay.\\n\\nWhy did the T-Rex cross the road?\\n\\nI don\\'t know.\\n\\nTo get to the other side.\\n\\nThat wasn\\'t too great, or was it? Let\\'s try one more. Tell me a joke.\\n\\nI don\\'t know any good jokes, but I do know a good one about a T-Rex.\\n\\nWhy did the T-Rex cross the road?\\n\\nI don\\'t know.\\n\\nTo get to the other side.\\n\\nAll right, I think that\\'s enough of that. You get the idea. This is the Echo Dot Kids Edition. It\\'s a great device for kids. It\\'s priced at $70, which is actually a pretty good deal. You get the same Echo Dot that you would get in the store. However, it comes with a two-year worry-free guarantee, which means that if your child breaks it, Amazon will replace it for free, no questions asked. It also comes with a year subscription to Amazon FreeTime Unlimited, which is great. It gives your child access to over a thousand books, games, and other educational activities that are age appropriate. I think it\\'s a great device for kids. It\\'s easy to'"
      ]
     },
     "execution_count": 4,
     "metadata": {},
     "output_type": "execute_result"
    }
   ],
   "source": [
    "# Import Azure OpenAI\n",
    "from langchain.llms import AzureOpenAI\n",
    "from langchain.callbacks.streaming_stdout import StreamingStdOutCallbackHandler\n",
    "\n",
    "# Create an instance of Azure OpenAI\n",
    "# Replace the deployment name with your own\n",
    "llm = AzureOpenAI(\n",
    "    deployment_name=\"gpt-35-turbo\",\n",
    "    model_name=\"gpt-35-turbo\",  # type: ignore\n",
    "    callbacks=[StreamingStdOutCallbackHandler()],\n",
    "    streaming=True\n",
    ") # type: ignore\n",
    "\n",
    "# Run the LLM\n",
    "llm(\"Tell me a joke\")"
   ]
  },
  {
   "attachments": {},
   "cell_type": "markdown",
   "metadata": {},
   "source": [
    "\n",
    "También podemos imprimir el LLM y ver su impresión personalizada."
   ]
  },
  {
   "cell_type": "code",
   "execution_count": 5,
   "metadata": {},
   "outputs": [
    {
     "name": "stdout",
     "output_type": "stream",
     "text": [
      "\u001b[1mAzureOpenAI\u001b[0m\n",
      "Params: {'deployment_name': 'gpt-35-turbo', 'model_name': 'gpt-35-turbo', 'temperature': 0.7, 'max_tokens': 256, 'top_p': 1, 'frequency_penalty': 0, 'presence_penalty': 0, 'n': 1, 'request_timeout': None, 'logit_bias': {}}\n"
     ]
    }
   ],
   "source": [
    "print(llm)"
   ]
  }
 ],
 "metadata": {
  "kernelspec": {
   "display_name": "Python 3",
   "language": "python",
   "name": "python3"
  },
  "language_info": {
   "codemirror_mode": {
    "name": "ipython",
    "version": 3
   },
   "file_extension": ".py",
   "mimetype": "text/x-python",
   "name": "python",
   "nbconvert_exporter": "python",
   "pygments_lexer": "ipython3",
   "version": "3.10.11"
  },
  "orig_nbformat": 4
 },
 "nbformat": 4,
 "nbformat_minor": 2
}
